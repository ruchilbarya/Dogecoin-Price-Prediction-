{
  "nbformat": 4,
  "nbformat_minor": 0,
  "metadata": {
    "colab": {
      "name": "Copy of Dogecoinwithoutsentiment.ipynb",
      "provenance": []
    },
    "kernelspec": {
      "name": "python3",
      "display_name": "Python 3"
    },
    "language_info": {
      "name": "python"
    }
  },
  "cells": [
    {
      "cell_type": "code",
      "metadata": {
        "id": "Ss24bwb0yUuf"
      },
      "source": [
        "\n",
        "import warnings\n",
        "warnings.filterwarnings('ignore')\n",
        "import pandas as pd\n",
        "import matplotlib.pyplot as plt\n",
        "import numpy as np\n",
        "from sklearn.metrics import mean_squared_error\n",
        "from sklearn.preprocessing import MinMaxScaler\n",
        "import math\n",
        "import matplotlib.pyplot as plt\n",
        "import keras\n",
        "import pandas as pd\n",
        "import numpy as np\n",
        "from keras.models import Sequential\n",
        "from keras.layers import Dense\n",
        "from keras.layers import LSTM\n",
        "from keras.layers import Dropout\n",
        "from keras.layers import *\n",
        "from sklearn.preprocessing import MinMaxScaler\n",
        "from sklearn.metrics import mean_squared_error\n",
        "from sklearn.metrics import mean_absolute_error\n",
        "from sklearn.model_selection import train_test_split\n",
        "from keras.callbacks import EarlyStopping"
      ],
      "execution_count": null,
      "outputs": []
    },
    {
      "cell_type": "code",
      "metadata": {
        "colab": {
          "base_uri": "https://localhost:8080/"
        },
        "id": "L2thtSRoyay1",
        "outputId": "9e802efc-fec9-4c46-e81a-2562374a047e"
      },
      "source": [
        "from google.colab import drive\n",
        "drive.mount('/content/gdrive')"
      ],
      "execution_count": null,
      "outputs": [
        {
          "output_type": "stream",
          "text": [
            "Drive already mounted at /content/gdrive; to attempt to forcibly remount, call drive.mount(\"/content/gdrive\", force_remount=True).\n"
          ],
          "name": "stdout"
        }
      ]
    },
    {
      "cell_type": "code",
      "metadata": {
        "colab": {
          "base_uri": "https://localhost:8080/",
          "height": 203
        },
        "id": "TXpHZOSH0K7M",
        "outputId": "ac51a0d9-2e85-4632-e3a5-30eed2edf929"
      },
      "source": [
        "#Read the csv file\n",
        "df = pd.read_csv('/content/gdrive/MyDrive/ColabNotebooks2/SentimentScoreCompound.csv')\n",
        "df.head()"
      ],
      "execution_count": null,
      "outputs": [
        {
          "output_type": "execute_result",
          "data": {
            "text/html": [
              "<div>\n",
              "<style scoped>\n",
              "    .dataframe tbody tr th:only-of-type {\n",
              "        vertical-align: middle;\n",
              "    }\n",
              "\n",
              "    .dataframe tbody tr th {\n",
              "        vertical-align: top;\n",
              "    }\n",
              "\n",
              "    .dataframe thead th {\n",
              "        text-align: right;\n",
              "    }\n",
              "</style>\n",
              "<table border=\"1\" class=\"dataframe\">\n",
              "  <thead>\n",
              "    <tr style=\"text-align: right;\">\n",
              "      <th></th>\n",
              "      <th>Date</th>\n",
              "      <th>Compound</th>\n",
              "      <th>Price</th>\n",
              "    </tr>\n",
              "  </thead>\n",
              "  <tbody>\n",
              "    <tr>\n",
              "      <th>0</th>\n",
              "      <td>1/1/2021</td>\n",
              "      <td>0.197971</td>\n",
              "      <td>0.005685</td>\n",
              "    </tr>\n",
              "    <tr>\n",
              "      <th>1</th>\n",
              "      <td>1/2/2021</td>\n",
              "      <td>0.075553</td>\n",
              "      <td>0.010615</td>\n",
              "    </tr>\n",
              "    <tr>\n",
              "      <th>2</th>\n",
              "      <td>1/3/2021</td>\n",
              "      <td>0.248539</td>\n",
              "      <td>0.009771</td>\n",
              "    </tr>\n",
              "    <tr>\n",
              "      <th>3</th>\n",
              "      <td>1/4/2021</td>\n",
              "      <td>0.082018</td>\n",
              "      <td>0.009767</td>\n",
              "    </tr>\n",
              "    <tr>\n",
              "      <th>4</th>\n",
              "      <td>1/5/2021</td>\n",
              "      <td>0.127530</td>\n",
              "      <td>0.009920</td>\n",
              "    </tr>\n",
              "  </tbody>\n",
              "</table>\n",
              "</div>"
            ],
            "text/plain": [
              "       Date  Compound    Price \n",
              "0  1/1/2021  0.197971  0.005685\n",
              "1  1/2/2021  0.075553  0.010615\n",
              "2  1/3/2021  0.248539  0.009771\n",
              "3  1/4/2021  0.082018  0.009767\n",
              "4  1/5/2021  0.127530  0.009920"
            ]
          },
          "metadata": {
            "tags": []
          },
          "execution_count": 26
        }
      ]
    },
    {
      "cell_type": "code",
      "metadata": {
        "colab": {
          "base_uri": "https://localhost:8080/",
          "height": 203
        },
        "id": "n670dbkWybMn",
        "outputId": "172c56a9-b268-423b-b50a-b8ecbbd2980a"
      },
      "source": [
        "df.tail()"
      ],
      "execution_count": null,
      "outputs": [
        {
          "output_type": "execute_result",
          "data": {
            "text/html": [
              "<div>\n",
              "<style scoped>\n",
              "    .dataframe tbody tr th:only-of-type {\n",
              "        vertical-align: middle;\n",
              "    }\n",
              "\n",
              "    .dataframe tbody tr th {\n",
              "        vertical-align: top;\n",
              "    }\n",
              "\n",
              "    .dataframe thead th {\n",
              "        text-align: right;\n",
              "    }\n",
              "</style>\n",
              "<table border=\"1\" class=\"dataframe\">\n",
              "  <thead>\n",
              "    <tr style=\"text-align: right;\">\n",
              "      <th></th>\n",
              "      <th>Date</th>\n",
              "      <th>Compound</th>\n",
              "      <th>Price</th>\n",
              "    </tr>\n",
              "  </thead>\n",
              "  <tbody>\n",
              "    <tr>\n",
              "      <th>146</th>\n",
              "      <td>5/27/2021</td>\n",
              "      <td>0.210520</td>\n",
              "      <td>0.332945</td>\n",
              "    </tr>\n",
              "    <tr>\n",
              "      <th>147</th>\n",
              "      <td>5/28/2021</td>\n",
              "      <td>0.227102</td>\n",
              "      <td>0.311205</td>\n",
              "    </tr>\n",
              "    <tr>\n",
              "      <th>148</th>\n",
              "      <td>5/29/2021</td>\n",
              "      <td>0.244916</td>\n",
              "      <td>0.303110</td>\n",
              "    </tr>\n",
              "    <tr>\n",
              "      <th>149</th>\n",
              "      <td>5/30/2021</td>\n",
              "      <td>0.152507</td>\n",
              "      <td>0.302224</td>\n",
              "    </tr>\n",
              "    <tr>\n",
              "      <th>150</th>\n",
              "      <td>5/31/2021</td>\n",
              "      <td>0.145083</td>\n",
              "      <td>0.325810</td>\n",
              "    </tr>\n",
              "  </tbody>\n",
              "</table>\n",
              "</div>"
            ],
            "text/plain": [
              "          Date  Compound    Price \n",
              "146  5/27/2021  0.210520  0.332945\n",
              "147  5/28/2021  0.227102  0.311205\n",
              "148  5/29/2021  0.244916  0.303110\n",
              "149  5/30/2021  0.152507  0.302224\n",
              "150  5/31/2021  0.145083  0.325810"
            ]
          },
          "metadata": {
            "tags": []
          },
          "execution_count": 27
        }
      ]
    },
    {
      "cell_type": "code",
      "metadata": {
        "colab": {
          "base_uri": "https://localhost:8080/"
        },
        "id": "P2klT54ly-sY",
        "outputId": "cfea3b3f-56df-43d3-a782-57f5cc6b16a0"
      },
      "source": [
        "df = df[['Date','Price ']]\n",
        "df.shape"
      ],
      "execution_count": null,
      "outputs": [
        {
          "output_type": "execute_result",
          "data": {
            "text/plain": [
              "(151, 2)"
            ]
          },
          "metadata": {
            "tags": []
          },
          "execution_count": 28
        }
      ]
    },
    {
      "cell_type": "code",
      "metadata": {
        "colab": {
          "base_uri": "https://localhost:8080/",
          "height": 449
        },
        "id": "gxKYLzQ80A43",
        "outputId": "581dcdc8-646e-4ce1-81bf-e10fd777ba88"
      },
      "source": [
        "df.set_index('Date',inplace=True)  \n",
        "cols = df.columns.tolist()\n",
        "cols = cols[-1:] + cols[:-1]\n",
        "df = df[cols]\n",
        "df"
      ],
      "execution_count": null,
      "outputs": [
        {
          "output_type": "execute_result",
          "data": {
            "text/html": [
              "<div>\n",
              "<style scoped>\n",
              "    .dataframe tbody tr th:only-of-type {\n",
              "        vertical-align: middle;\n",
              "    }\n",
              "\n",
              "    .dataframe tbody tr th {\n",
              "        vertical-align: top;\n",
              "    }\n",
              "\n",
              "    .dataframe thead th {\n",
              "        text-align: right;\n",
              "    }\n",
              "</style>\n",
              "<table border=\"1\" class=\"dataframe\">\n",
              "  <thead>\n",
              "    <tr style=\"text-align: right;\">\n",
              "      <th></th>\n",
              "      <th>Price</th>\n",
              "    </tr>\n",
              "    <tr>\n",
              "      <th>Date</th>\n",
              "      <th></th>\n",
              "    </tr>\n",
              "  </thead>\n",
              "  <tbody>\n",
              "    <tr>\n",
              "      <th>1/1/2021</th>\n",
              "      <td>0.005685</td>\n",
              "    </tr>\n",
              "    <tr>\n",
              "      <th>1/2/2021</th>\n",
              "      <td>0.010615</td>\n",
              "    </tr>\n",
              "    <tr>\n",
              "      <th>1/3/2021</th>\n",
              "      <td>0.009771</td>\n",
              "    </tr>\n",
              "    <tr>\n",
              "      <th>1/4/2021</th>\n",
              "      <td>0.009767</td>\n",
              "    </tr>\n",
              "    <tr>\n",
              "      <th>1/5/2021</th>\n",
              "      <td>0.009920</td>\n",
              "    </tr>\n",
              "    <tr>\n",
              "      <th>...</th>\n",
              "      <td>...</td>\n",
              "    </tr>\n",
              "    <tr>\n",
              "      <th>5/27/2021</th>\n",
              "      <td>0.332945</td>\n",
              "    </tr>\n",
              "    <tr>\n",
              "      <th>5/28/2021</th>\n",
              "      <td>0.311205</td>\n",
              "    </tr>\n",
              "    <tr>\n",
              "      <th>5/29/2021</th>\n",
              "      <td>0.303110</td>\n",
              "    </tr>\n",
              "    <tr>\n",
              "      <th>5/30/2021</th>\n",
              "      <td>0.302224</td>\n",
              "    </tr>\n",
              "    <tr>\n",
              "      <th>5/31/2021</th>\n",
              "      <td>0.325810</td>\n",
              "    </tr>\n",
              "  </tbody>\n",
              "</table>\n",
              "<p>151 rows × 1 columns</p>\n",
              "</div>"
            ],
            "text/plain": [
              "             Price \n",
              "Date               \n",
              "1/1/2021   0.005685\n",
              "1/2/2021   0.010615\n",
              "1/3/2021   0.009771\n",
              "1/4/2021   0.009767\n",
              "1/5/2021   0.009920\n",
              "...             ...\n",
              "5/27/2021  0.332945\n",
              "5/28/2021  0.311205\n",
              "5/29/2021  0.303110\n",
              "5/30/2021  0.302224\n",
              "5/31/2021  0.325810\n",
              "\n",
              "[151 rows x 1 columns]"
            ]
          },
          "metadata": {
            "tags": []
          },
          "execution_count": 29
        }
      ]
    },
    {
      "cell_type": "code",
      "metadata": {
        "id": "glj3i5XA0FWO"
      },
      "source": [
        "scaler = MinMaxScaler(feature_range=(0, 1))\n",
        "scaled = scaler.fit_transform(df.values)"
      ],
      "execution_count": null,
      "outputs": []
    },
    {
      "cell_type": "code",
      "metadata": {
        "id": "ww38SQlq0KFs"
      },
      "source": [
        "def series_to_supervised(data, n_in=1, n_out=1, dropnan=True):\n",
        "    '''\n",
        "    Converts the original dataframe to a format which contains\n",
        "    lag shifted values of inputs which can be used as input\n",
        "    to the LSTM\n",
        "    '''\n",
        "    n_vars = 1 if type(data) is list else data.shape[1]\n",
        "    df = pd.DataFrame(data)\n",
        "    cols, names = list(), list()\n",
        "    # input sequence (t-n, ... t-1)\n",
        "    for i in range(n_in, 0, -1):\n",
        "        cols.append(df.shift(i))\n",
        "        names += [('var%d(t-%d)' % (j+1, i)) for j in range(n_vars)]\n",
        "    # forecast sequence (t, t+1, ... t+n)\n",
        "    for i in range(0, n_out):\n",
        "        cols.append(df.shift(-i))\n",
        "        if i == 0:\n",
        "            names += [('var%d(t)' % (j+1)) for j in range(n_vars)]\n",
        "        else:\n",
        "            names += [('var%d(t+%d)' % (j+1, i)) for j in range(n_vars)]\n",
        "    # put it all together\n",
        "    agg = pd.concat(cols, axis=1)\n",
        "    agg.columns = names\n",
        "    # drop rows with NaN values\n",
        "    if dropnan:\n",
        "        agg.dropna(inplace=True)\n",
        "    return agg"
      ],
      "execution_count": null,
      "outputs": []
    },
    {
      "cell_type": "code",
      "metadata": {
        "id": "6LeH89Qp0MrH"
      },
      "source": [
        "n_hours = 1  #no of time lags\n",
        "n_features = 1 #no of features\n",
        "n_obs = n_hours*n_features"
      ],
      "execution_count": null,
      "outputs": []
    },
    {
      "cell_type": "code",
      "metadata": {
        "colab": {
          "base_uri": "https://localhost:8080/",
          "height": 203
        },
        "id": "neaCgs7Z1kvR",
        "outputId": "08df6028-6d70-47ec-a7fb-45d57f53ebf4"
      },
      "source": [
        "reframed = series_to_supervised(scaled, n_hours, 1)\n",
        "reframed.head()"
      ],
      "execution_count": null,
      "outputs": [
        {
          "output_type": "execute_result",
          "data": {
            "text/html": [
              "<div>\n",
              "<style scoped>\n",
              "    .dataframe tbody tr th:only-of-type {\n",
              "        vertical-align: middle;\n",
              "    }\n",
              "\n",
              "    .dataframe tbody tr th {\n",
              "        vertical-align: top;\n",
              "    }\n",
              "\n",
              "    .dataframe thead th {\n",
              "        text-align: right;\n",
              "    }\n",
              "</style>\n",
              "<table border=\"1\" class=\"dataframe\">\n",
              "  <thead>\n",
              "    <tr style=\"text-align: right;\">\n",
              "      <th></th>\n",
              "      <th>var1(t-1)</th>\n",
              "      <th>var1(t)</th>\n",
              "    </tr>\n",
              "  </thead>\n",
              "  <tbody>\n",
              "    <tr>\n",
              "      <th>1</th>\n",
              "      <td>0.000000</td>\n",
              "      <td>0.007259</td>\n",
              "    </tr>\n",
              "    <tr>\n",
              "      <th>2</th>\n",
              "      <td>0.007259</td>\n",
              "      <td>0.006016</td>\n",
              "    </tr>\n",
              "    <tr>\n",
              "      <th>3</th>\n",
              "      <td>0.006016</td>\n",
              "      <td>0.006011</td>\n",
              "    </tr>\n",
              "    <tr>\n",
              "      <th>4</th>\n",
              "      <td>0.006011</td>\n",
              "      <td>0.006237</td>\n",
              "    </tr>\n",
              "    <tr>\n",
              "      <th>5</th>\n",
              "      <td>0.006237</td>\n",
              "      <td>0.007039</td>\n",
              "    </tr>\n",
              "  </tbody>\n",
              "</table>\n",
              "</div>"
            ],
            "text/plain": [
              "   var1(t-1)   var1(t)\n",
              "1   0.000000  0.007259\n",
              "2   0.007259  0.006016\n",
              "3   0.006016  0.006011\n",
              "4   0.006011  0.006237\n",
              "5   0.006237  0.007039"
            ]
          },
          "metadata": {
            "tags": []
          },
          "execution_count": 33
        }
      ]
    },
    {
      "cell_type": "code",
      "metadata": {
        "colab": {
          "base_uri": "https://localhost:8080/",
          "height": 203
        },
        "id": "aBN64N7n1mvi",
        "outputId": "27321dee-695e-4ce3-f1cd-c7e4de783603"
      },
      "source": [
        "reframed = reframed.drop(reframed.columns[-1], axis=1)\n",
        "reframed.head()"
      ],
      "execution_count": null,
      "outputs": [
        {
          "output_type": "execute_result",
          "data": {
            "text/html": [
              "<div>\n",
              "<style scoped>\n",
              "    .dataframe tbody tr th:only-of-type {\n",
              "        vertical-align: middle;\n",
              "    }\n",
              "\n",
              "    .dataframe tbody tr th {\n",
              "        vertical-align: top;\n",
              "    }\n",
              "\n",
              "    .dataframe thead th {\n",
              "        text-align: right;\n",
              "    }\n",
              "</style>\n",
              "<table border=\"1\" class=\"dataframe\">\n",
              "  <thead>\n",
              "    <tr style=\"text-align: right;\">\n",
              "      <th></th>\n",
              "      <th>var1(t-1)</th>\n",
              "    </tr>\n",
              "  </thead>\n",
              "  <tbody>\n",
              "    <tr>\n",
              "      <th>1</th>\n",
              "      <td>0.000000</td>\n",
              "    </tr>\n",
              "    <tr>\n",
              "      <th>2</th>\n",
              "      <td>0.007259</td>\n",
              "    </tr>\n",
              "    <tr>\n",
              "      <th>3</th>\n",
              "      <td>0.006016</td>\n",
              "    </tr>\n",
              "    <tr>\n",
              "      <th>4</th>\n",
              "      <td>0.006011</td>\n",
              "    </tr>\n",
              "    <tr>\n",
              "      <th>5</th>\n",
              "      <td>0.006237</td>\n",
              "    </tr>\n",
              "  </tbody>\n",
              "</table>\n",
              "</div>"
            ],
            "text/plain": [
              "   var1(t-1)\n",
              "1   0.000000\n",
              "2   0.007259\n",
              "3   0.006016\n",
              "4   0.006011\n",
              "5   0.006237"
            ]
          },
          "metadata": {
            "tags": []
          },
          "execution_count": 34
        }
      ]
    },
    {
      "cell_type": "code",
      "metadata": {
        "colab": {
          "base_uri": "https://localhost:8080/"
        },
        "id": "QhIOE7Q0-toq",
        "outputId": "31f22ad2-9dd4-4350-96c8-c157dd3c2f4f"
      },
      "source": [
        "reframed.shape"
      ],
      "execution_count": null,
      "outputs": [
        {
          "output_type": "execute_result",
          "data": {
            "text/plain": [
              "(150, 1)"
            ]
          },
          "metadata": {
            "tags": []
          },
          "execution_count": 35
        }
      ]
    },
    {
      "cell_type": "code",
      "metadata": {
        "colab": {
          "base_uri": "https://localhost:8080/"
        },
        "id": "xOOrHAiR1uAb",
        "outputId": "c7ee4966-4d20-459e-91d2-be06eb5809fc"
      },
      "source": [
        "values = reframed.values\n",
        "n_train_hours = 135\n",
        "train = values[:n_train_hours, :]\n",
        "test = values[n_train_hours:, :]\n",
        "train.shape,test.shape"
      ],
      "execution_count": null,
      "outputs": [
        {
          "output_type": "execute_result",
          "data": {
            "text/plain": [
              "((135, 1), (15, 1))"
            ]
          },
          "metadata": {
            "tags": []
          },
          "execution_count": 36
        }
      ]
    },
    {
      "cell_type": "code",
      "metadata": {
        "id": "qlg2-Yl51wiv"
      },
      "source": [
        "# split into input and outputs\n",
        "train_X, train_y = train[:, :n_obs], train[:, -n_features]\n",
        "test_X, test_y = test[:, :n_obs], test[:, -n_features]"
      ],
      "execution_count": null,
      "outputs": []
    },
    {
      "cell_type": "code",
      "metadata": {
        "colab": {
          "base_uri": "https://localhost:8080/"
        },
        "id": "cF-ByR9O1yqz",
        "outputId": "7b9f17b8-6c24-4b79-d527-ebd309dbba30"
      },
      "source": [
        "# reshape input to be 3D [samples, timesteps, features]\n",
        "train_X = train_X.reshape((train_X.shape[0], n_hours, n_features))\n",
        "test_X = test_X.reshape((test_X.shape[0], n_hours, n_features))\n",
        "print(train_X.shape, train_y.shape, test_X.shape, test_y.shape)"
      ],
      "execution_count": null,
      "outputs": [
        {
          "output_type": "stream",
          "text": [
            "(135, 1, 1) (135,) (15, 1, 1) (15,)\n"
          ],
          "name": "stdout"
        }
      ]
    },
    {
      "cell_type": "code",
      "metadata": {
        "colab": {
          "base_uri": "https://localhost:8080/"
        },
        "id": "jBGwmVrp14D8",
        "outputId": "ff027183-94ff-4400-926a-7393b966ed7c"
      },
      "source": [
        "from tensorflow.keras import Sequential\n",
        "from tensorflow.keras.layers import Dense, LSTM, Dropout\n",
        "#Initialize the RNN\n",
        "model = Sequential() \n",
        "model.add(LSTM(units = 50, activation = 'relu', return_sequences = True, input_shape = (train_X.shape[1], train_X.shape[2])))\n",
        "model.add(Dropout(0.2))\n",
        "model.add(LSTM(units = 60, activation = 'relu', return_sequences = True))\n",
        "model.add(Dropout(0.3))\n",
        "model.add(LSTM(units = 80, activation = 'relu', return_sequences = True))\n",
        "model.add(Dropout(0.4))\n",
        "model.add(LSTM(units = 120, activation = 'relu'))\n",
        "model.add(Dropout(0.5)) \n",
        "model.add(Dense(units =1))\n",
        "model.summary()\n",
        "\n",
        "# Compiling the RNN\n",
        "model.compile(optimizer = 'adam', loss = 'mean_squared_error')\n",
        "\n",
        "\n",
        "\n",
        "history = model.fit(train_X, train_y, epochs=40, batch_size=15, validation_data=(test_X, test_y), verbose=2, shuffle=False)"
      ],
      "execution_count": null,
      "outputs": [
        {
          "output_type": "stream",
          "text": [
            "Model: \"sequential_1\"\n",
            "_________________________________________________________________\n",
            "Layer (type)                 Output Shape              Param #   \n",
            "=================================================================\n",
            "lstm_4 (LSTM)                (None, 1, 50)             10400     \n",
            "_________________________________________________________________\n",
            "dropout_4 (Dropout)          (None, 1, 50)             0         \n",
            "_________________________________________________________________\n",
            "lstm_5 (LSTM)                (None, 1, 60)             26640     \n",
            "_________________________________________________________________\n",
            "dropout_5 (Dropout)          (None, 1, 60)             0         \n",
            "_________________________________________________________________\n",
            "lstm_6 (LSTM)                (None, 1, 80)             45120     \n",
            "_________________________________________________________________\n",
            "dropout_6 (Dropout)          (None, 1, 80)             0         \n",
            "_________________________________________________________________\n",
            "lstm_7 (LSTM)                (None, 120)               96480     \n",
            "_________________________________________________________________\n",
            "dropout_7 (Dropout)          (None, 120)               0         \n",
            "_________________________________________________________________\n",
            "dense_1 (Dense)              (None, 1)                 121       \n",
            "=================================================================\n",
            "Total params: 178,761\n",
            "Trainable params: 178,761\n",
            "Non-trainable params: 0\n",
            "_________________________________________________________________\n",
            "Epoch 1/40\n",
            "9/9 - 4s - loss: 0.0860 - val_loss: 0.2759\n",
            "Epoch 2/40\n",
            "9/9 - 0s - loss: 0.0811 - val_loss: 0.2607\n",
            "Epoch 3/40\n",
            "9/9 - 0s - loss: 0.0762 - val_loss: 0.2448\n",
            "Epoch 4/40\n",
            "9/9 - 0s - loss: 0.0721 - val_loss: 0.2285\n",
            "Epoch 5/40\n",
            "9/9 - 0s - loss: 0.0680 - val_loss: 0.2119\n",
            "Epoch 6/40\n",
            "9/9 - 0s - loss: 0.0644 - val_loss: 0.1955\n",
            "Epoch 7/40\n",
            "9/9 - 0s - loss: 0.0630 - val_loss: 0.1801\n",
            "Epoch 8/40\n",
            "9/9 - 0s - loss: 0.0586 - val_loss: 0.1664\n",
            "Epoch 9/40\n",
            "9/9 - 0s - loss: 0.0579 - val_loss: 0.1534\n",
            "Epoch 10/40\n",
            "9/9 - 0s - loss: 0.0557 - val_loss: 0.1429\n",
            "Epoch 11/40\n",
            "9/9 - 0s - loss: 0.0565 - val_loss: 0.1350\n",
            "Epoch 12/40\n",
            "9/9 - 0s - loss: 0.0555 - val_loss: 0.1280\n",
            "Epoch 13/40\n",
            "9/9 - 0s - loss: 0.0560 - val_loss: 0.1222\n",
            "Epoch 14/40\n",
            "9/9 - 0s - loss: 0.0542 - val_loss: 0.1180\n",
            "Epoch 15/40\n",
            "9/9 - 0s - loss: 0.0550 - val_loss: 0.1122\n",
            "Epoch 16/40\n",
            "9/9 - 0s - loss: 0.0524 - val_loss: 0.1062\n",
            "Epoch 17/40\n",
            "9/9 - 0s - loss: 0.0528 - val_loss: 0.0995\n",
            "Epoch 18/40\n",
            "9/9 - 0s - loss: 0.0502 - val_loss: 0.0926\n",
            "Epoch 19/40\n",
            "9/9 - 0s - loss: 0.0421 - val_loss: 0.0820\n",
            "Epoch 20/40\n",
            "9/9 - 0s - loss: 0.0369 - val_loss: 0.0678\n",
            "Epoch 21/40\n",
            "9/9 - 0s - loss: 0.0358 - val_loss: 0.0517\n",
            "Epoch 22/40\n",
            "9/9 - 0s - loss: 0.0309 - val_loss: 0.0358\n",
            "Epoch 23/40\n",
            "9/9 - 0s - loss: 0.0224 - val_loss: 0.0237\n",
            "Epoch 24/40\n",
            "9/9 - 0s - loss: 0.0188 - val_loss: 0.0163\n",
            "Epoch 25/40\n",
            "9/9 - 0s - loss: 0.0134 - val_loss: 0.0061\n",
            "Epoch 26/40\n",
            "9/9 - 0s - loss: 0.0108 - val_loss: 0.0079\n",
            "Epoch 27/40\n",
            "9/9 - 0s - loss: 0.0188 - val_loss: 0.0117\n",
            "Epoch 28/40\n",
            "9/9 - 0s - loss: 0.0110 - val_loss: 0.0395\n",
            "Epoch 29/40\n",
            "9/9 - 0s - loss: 0.0123 - val_loss: 0.0276\n",
            "Epoch 30/40\n",
            "9/9 - 0s - loss: 0.0079 - val_loss: 0.0057\n",
            "Epoch 31/40\n",
            "9/9 - 0s - loss: 0.0137 - val_loss: 0.0111\n",
            "Epoch 32/40\n",
            "9/9 - 0s - loss: 0.0120 - val_loss: 0.0187\n",
            "Epoch 33/40\n",
            "9/9 - 0s - loss: 0.0093 - val_loss: 0.0144\n",
            "Epoch 34/40\n",
            "9/9 - 0s - loss: 0.0065 - val_loss: 0.0049\n",
            "Epoch 35/40\n",
            "9/9 - 0s - loss: 0.0092 - val_loss: 0.0112\n",
            "Epoch 36/40\n",
            "9/9 - 0s - loss: 0.0062 - val_loss: 0.0099\n",
            "Epoch 37/40\n",
            "9/9 - 0s - loss: 0.0067 - val_loss: 0.0034\n",
            "Epoch 38/40\n",
            "9/9 - 0s - loss: 0.0061 - val_loss: 0.0135\n",
            "Epoch 39/40\n",
            "9/9 - 0s - loss: 0.0197 - val_loss: 0.0136\n",
            "Epoch 40/40\n",
            "9/9 - 0s - loss: 0.0146 - val_loss: 0.0498\n"
          ],
          "name": "stdout"
        }
      ]
    },
    {
      "cell_type": "code",
      "metadata": {
        "colab": {
          "base_uri": "https://localhost:8080/",
          "height": 265
        },
        "id": "MNnsVPue2Qx7",
        "outputId": "24b033b8-ab01-459a-9055-b42ac909d327"
      },
      "source": [
        "plt.plot(history.history['loss'], label='train')\n",
        "plt.plot(history.history['val_loss'], label='test')\n",
        "plt.legend()\n",
        "plt.show()"
      ],
      "execution_count": null,
      "outputs": [
        {
          "output_type": "display_data",
          "data": {
            "image/png": "[encoded data removed]",
            "text/plain": [
              "<Figure size 432x288 with 1 Axes>"
            ]
          },
          "metadata": {
            "tags": [],
            "needs_background": "light"
          }
        }
      ]
    },
    {
      "cell_type": "code",
      "metadata": {
        "colab": {
          "base_uri": "https://localhost:8080/",
          "height": 336
        },
        "id": "elRDskjg216K",
        "outputId": "30070bb6-d20f-4886-e4bf-44be0740c9fd"
      },
      "source": [
        "#plt.style.use('ggplot')\n",
        "\n",
        "def plot_history(history):\n",
        "    loss = history.history['loss']\n",
        "    val_loss = history.history['val_loss']\n",
        "    x = range(1, len(loss) + 1)\n",
        "\n",
        "    plt.figure(figsize=(12, 5))\n",
        "    plt.plot(x, loss, 'b', label='Training loss')\n",
        "    plt.plot(x, val_loss, 'r', label='Validation loss')\n",
        "    plt.title('Training and validation loss')\n",
        "    plt.legend()\n",
        "    plt.show()\n",
        "\n",
        "\n",
        "plot_history(history)"
      ],
      "execution_count": null,
      "outputs": [
        {
          "output_type": "display_data",
          "data": {
            "image/png": "[encoded data removed]",
            "text/plain": [
              "<Figure size 864x360 with 1 Axes>"
            ]
          },
          "metadata": {
            "tags": [],
            "needs_background": "light"
          }
        }
      ]
    },
    {
      "cell_type": "code",
      "metadata": {
        "colab": {
          "base_uri": "https://localhost:8080/",
          "height": 350
        },
        "id": "IoHR8ytl24aC",
        "outputId": "4b5cf319-ac55-44e0-e53a-52a6202239db"
      },
      "source": [
        "# make a prediction\n",
        "yhat = model.predict(test_X)\n",
        "yhat\n",
        "plt.figure(figsize=(14,5))\n",
        "plt.plot(test_y, color = 'red', label = 'Real Price of Dogecoin')\n",
        "plt.plot(yhat, color = 'green', label = 'Predicted Price of Dogecoin')\n",
        "plt.title('Dogecoin Price Prediction using LSTM along without sentiment score')\n",
        "plt.xlabel('Time')\n",
        "plt.ylabel('Price')\n",
        "plt.legend()\n",
        "plt.show()"
      ],
      "execution_count": null,
      "outputs": [
        {
          "output_type": "display_data",
          "data": {
            "image/png": "[encoded data removed]",
            "text/plain": [
              "<Figure size 1008x360 with 1 Axes>"
            ]
          },
          "metadata": {
            "tags": [],
            "needs_background": "light"
          }
        }
      ]
    },
    {
      "cell_type": "code",
      "metadata": {
        "colab": {
          "base_uri": "https://localhost:8080/"
        },
        "id": "BirsGbRk6803",
        "outputId": "c7cc4600-2785-476e-d609-dc6a255745db"
      },
      "source": [
        "from sklearn.metrics import mean_squared_error \n",
        "realVals = test_y\n",
        "predictedVals = yhat\n",
        "mse = mean_squared_error(realVals, predictedVals)\n",
        "mse"
      ],
      "execution_count": null,
      "outputs": [
        {
          "output_type": "execute_result",
          "data": {
            "text/plain": [
              "0.0497517646022864"
            ]
          },
          "metadata": {
            "tags": []
          },
          "execution_count": 43
        }
      ]
    },
    {
      "cell_type": "code",
      "metadata": {
        "colab": {
          "base_uri": "https://localhost:8080/"
        },
        "id": "fGkcW5tl7tih",
        "outputId": "b7436556-be42-4582-8b3b-4d935c9e5556"
      },
      "source": [
        "test_X = test_X.reshape((test_X.shape[0], n_hours* n_features))\n",
        "# invert scaling for forecast\n",
        "inv_yhat = np.concatenate((yhat, test_X[:, -1:]), axis=1)\n",
        "inv_yhat = scaler.inverse_transform(inv_yhat)\n",
        "inv_yhat = inv_yhat[:,0]\n",
        "# invert scaling for actual\n",
        "test_y = test_y.reshape((len(test_y), 1))\n",
        "inv_y = np.concatenate((test_y, test_X[:, -1:]), axis=1)\n",
        "inv_y = scaler.inverse_transform(inv_y)\n",
        "inv_y = inv_y[:,0]\n",
        "# calculate RMSE\n",
        "rmse = np.sqrt(mean_squared_error(inv_y, inv_yhat))\n",
        "print('Test RMSE: %.3f' % rmse)"
      ],
      "execution_count": null,
      "outputs": [
        {
          "output_type": "stream",
          "text": [
            "Test RMSE: 0.151\n"
          ],
          "name": "stdout"
        }
      ]
    },
    {
      "cell_type": "code",
      "metadata": {
        "colab": {
          "base_uri": "https://localhost:8080/"
        },
        "id": "gcGSBE3R3MyG",
        "outputId": "e0ae73c4-ba8f-4abd-bad6-fdb97d828c5d"
      },
      "source": [
        "test_y"
      ],
      "execution_count": null,
      "outputs": [
        {
          "output_type": "execute_result",
          "data": {
            "text/plain": [
              "array([[0.74983984],\n",
              "       [0.71007562],\n",
              "       [0.69273388],\n",
              "       [0.48217102],\n",
              "       [0.58093559],\n",
              "       [0.52083804],\n",
              "       [0.49578888],\n",
              "       [0.44527937],\n",
              "       [0.53082242],\n",
              "       [0.50157708],\n",
              "       [0.5124609 ],\n",
              "       [0.4819087 ],\n",
              "       [0.44989471],\n",
              "       [0.43797415],\n",
              "       [0.43666929]])"
            ]
          },
          "metadata": {
            "tags": []
          },
          "execution_count": 45
        }
      ]
    },
    {
      "cell_type": "code",
      "metadata": {
        "id": "leZaUXiPBV_C"
      },
      "source": [
        ""
      ],
      "execution_count": null,
      "outputs": []
    }
  ]
}