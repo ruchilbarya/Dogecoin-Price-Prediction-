{
  "nbformat": 4,
  "nbformat_minor": 0,
  "metadata": {
    "colab": {
      "name": "DogecoinLSTM.ipynb",
      "provenance": []
    },
    "kernelspec": {
      "name": "python3",
      "display_name": "Python 3"
    },
    "language_info": {
      "name": "python"
    }
  },
  "cells": [
    {
      "cell_type": "code",
      "metadata": {
        "id": "htdtJnESWumg"
      },
      "source": [
        "\n",
        "import warnings\n",
        "warnings.filterwarnings('ignore')\n",
        "import pandas as pd\n",
        "import matplotlib.pyplot as plt\n",
        "import numpy as np\n",
        "from sklearn.metrics import mean_squared_error\n",
        "from sklearn.preprocessing import MinMaxScaler\n",
        "import math\n",
        "import matplotlib.pyplot as plt\n",
        "import keras\n",
        "import pandas as pd\n",
        "import numpy as np\n",
        "from keras.models import Sequential\n",
        "from keras.layers import Dense\n",
        "from keras.layers import LSTM\n",
        "from keras.layers import Dropout\n",
        "from keras.layers import *\n",
        "from sklearn.preprocessing import MinMaxScaler\n",
        "from sklearn.metrics import mean_squared_error\n",
        "from sklearn.metrics import mean_absolute_error\n",
        "from sklearn.model_selection import train_test_split\n",
        "from keras.callbacks import EarlyStopping"
      ],
      "execution_count": null,
      "outputs": []
    },
    {
      "cell_type": "code",
      "metadata": {
        "colab": {
          "base_uri": "https://localhost:8080/"
        },
        "id": "9yXGRqDtW9F4",
        "outputId": "700d8f17-9482-4c7c-87f4-015627b20851"
      },
      "source": [
        "from google.colab import drive\n",
        "drive.mount('/content/gdrive')"
      ],
      "execution_count": null,
      "outputs": [
        {
          "output_type": "stream",
          "text": [
            "Drive already mounted at /content/gdrive; to attempt to forcibly remount, call drive.mount(\"/content/gdrive\", force_remount=True).\n"
          ],
          "name": "stdout"
        }
      ]
    },
    {
      "cell_type": "code",
      "metadata": {
        "colab": {
          "base_uri": "https://localhost:8080/",
          "height": 203
        },
        "id": "QVLzwpTjYopT",
        "outputId": "d930afa5-bcf2-4925-e52d-c4e22408fab7"
      },
      "source": [
        "#Read the csv file\n",
        "df = pd.read_csv('/content/gdrive/MyDrive/ColabNotebooks2/SentimentScoreCompound.csv')\n",
        "df.head()\n",
        "df.tail()"
      ],
      "execution_count": null,
      "outputs": [
        {
          "output_type": "execute_result",
          "data": {
            "text/html": [
              "<div>\n",
              "<style scoped>\n",
              "    .dataframe tbody tr th:only-of-type {\n",
              "        vertical-align: middle;\n",
              "    }\n",
              "\n",
              "    .dataframe tbody tr th {\n",
              "        vertical-align: top;\n",
              "    }\n",
              "\n",
              "    .dataframe thead th {\n",
              "        text-align: right;\n",
              "    }\n",
              "</style>\n",
              "<table border=\"1\" class=\"dataframe\">\n",
              "  <thead>\n",
              "    <tr style=\"text-align: right;\">\n",
              "      <th></th>\n",
              "      <th>Date</th>\n",
              "      <th>Compound</th>\n",
              "      <th>Price</th>\n",
              "    </tr>\n",
              "  </thead>\n",
              "  <tbody>\n",
              "    <tr>\n",
              "      <th>146</th>\n",
              "      <td>5/27/2021</td>\n",
              "      <td>0.210520</td>\n",
              "      <td>0.332945</td>\n",
              "    </tr>\n",
              "    <tr>\n",
              "      <th>147</th>\n",
              "      <td>5/28/2021</td>\n",
              "      <td>0.227102</td>\n",
              "      <td>0.311205</td>\n",
              "    </tr>\n",
              "    <tr>\n",
              "      <th>148</th>\n",
              "      <td>5/29/2021</td>\n",
              "      <td>0.244916</td>\n",
              "      <td>0.303110</td>\n",
              "    </tr>\n",
              "    <tr>\n",
              "      <th>149</th>\n",
              "      <td>5/30/2021</td>\n",
              "      <td>0.152507</td>\n",
              "      <td>0.302224</td>\n",
              "    </tr>\n",
              "    <tr>\n",
              "      <th>150</th>\n",
              "      <td>5/31/2021</td>\n",
              "      <td>0.145083</td>\n",
              "      <td>0.325810</td>\n",
              "    </tr>\n",
              "  </tbody>\n",
              "</table>\n",
              "</div>"
            ],
            "text/plain": [
              "          Date  Compound    Price \n",
              "146  5/27/2021  0.210520  0.332945\n",
              "147  5/28/2021  0.227102  0.311205\n",
              "148  5/29/2021  0.244916  0.303110\n",
              "149  5/30/2021  0.152507  0.302224\n",
              "150  5/31/2021  0.145083  0.325810"
            ]
          },
          "metadata": {
            "tags": []
          },
          "execution_count": 134
        }
      ]
    },
    {
      "cell_type": "code",
      "metadata": {
        "colab": {
          "base_uri": "https://localhost:8080/",
          "height": 850
        },
        "id": "aXSxoFmeg2wL",
        "outputId": "c31086eb-8f78-4814-aac1-b1f845b22e2f"
      },
      "source": [
        "import seaborn as sb\n",
        "# How many of features are correlated\n",
        "\n",
        "\n",
        "C_mat = df.corr()\n",
        "fig = plt.figure(figsize = (15,15))\n",
        "\n",
        "sb.heatmap(C_mat, vmax = .8, square = True)\n",
        "plt.show()\n",
        "# Looks like 15 correlated features"
      ],
      "execution_count": null,
      "outputs": [
        {
          "output_type": "display_data",
          "data": {
            "image/png": "[encoded data removed]",
            "text/plain": [
              "<Figure size 1080x1080 with 2 Axes>"
            ]
          },
          "metadata": {
            "tags": [],
            "needs_background": "light"
          }
        }
      ]
    },
    {
      "cell_type": "code",
      "metadata": {
        "colab": {
          "base_uri": "https://localhost:8080/"
        },
        "id": "ysxXGj7sicaI",
        "outputId": "527f49c7-9020-45ec-a0aa-580efaf37881"
      },
      "source": [
        "np.corrcoef(df['Compound'], df['Price '])"
      ],
      "execution_count": null,
      "outputs": [
        {
          "output_type": "execute_result",
          "data": {
            "text/plain": [
              "array([[ 1.        , -0.11610547],\n",
              "       [-0.11610547,  1.        ]])"
            ]
          },
          "metadata": {
            "tags": []
          },
          "execution_count": 136
        }
      ]
    },
    {
      "cell_type": "code",
      "metadata": {
        "colab": {
          "base_uri": "https://localhost:8080/",
          "height": 265
        },
        "id": "ILX8nSTmZN88",
        "outputId": "62beac6c-877e-4191-e3af-b17d5c7bd694"
      },
      "source": [
        "values = df.values\n",
        "# specify columns to plot\n",
        "groups = [ 1,2]\n",
        "i = 1\n",
        "# plot each column\n",
        "plt.figure()\n",
        "for group in groups:\n",
        "\tplt.subplot(len(groups), 1, i)\n",
        "\tplt.plot(values[:, group])\n",
        "\tplt.title(df.columns[group], y=0.5, loc='right')\n",
        "\ti += 1\n",
        "plt.show()"
      ],
      "execution_count": null,
      "outputs": [
        {
          "output_type": "display_data",
          "data": {
            "image/png": "[encoded data removed]",
            "text/plain": [
              "<Figure size 432x288 with 2 Axes>"
            ]
          },
          "metadata": {
            "tags": [],
            "needs_background": "light"
          }
        }
      ]
    },
    {
      "cell_type": "code",
      "metadata": {
        "colab": {
          "base_uri": "https://localhost:8080/",
          "height": 449
        },
        "id": "wQUZwGW8ZQwn",
        "outputId": "c73b2ca7-50e1-4c11-be00-54bb2a8e2b5e"
      },
      "source": [
        "\n",
        "df.set_index('Date',inplace=True)  \n",
        "cols = df.columns.tolist()\n",
        "cols = cols[-1:] + cols[:-1]\n",
        "df = df[cols]\n",
        "df"
      ],
      "execution_count": null,
      "outputs": [
        {
          "output_type": "execute_result",
          "data": {
            "text/html": [
              "<div>\n",
              "<style scoped>\n",
              "    .dataframe tbody tr th:only-of-type {\n",
              "        vertical-align: middle;\n",
              "    }\n",
              "\n",
              "    .dataframe tbody tr th {\n",
              "        vertical-align: top;\n",
              "    }\n",
              "\n",
              "    .dataframe thead th {\n",
              "        text-align: right;\n",
              "    }\n",
              "</style>\n",
              "<table border=\"1\" class=\"dataframe\">\n",
              "  <thead>\n",
              "    <tr style=\"text-align: right;\">\n",
              "      <th></th>\n",
              "      <th>Price</th>\n",
              "      <th>Compound</th>\n",
              "    </tr>\n",
              "    <tr>\n",
              "      <th>Date</th>\n",
              "      <th></th>\n",
              "      <th></th>\n",
              "    </tr>\n",
              "  </thead>\n",
              "  <tbody>\n",
              "    <tr>\n",
              "      <th>1/1/2021</th>\n",
              "      <td>0.005685</td>\n",
              "      <td>0.197971</td>\n",
              "    </tr>\n",
              "    <tr>\n",
              "      <th>1/2/2021</th>\n",
              "      <td>0.010615</td>\n",
              "      <td>0.075553</td>\n",
              "    </tr>\n",
              "    <tr>\n",
              "      <th>1/3/2021</th>\n",
              "      <td>0.009771</td>\n",
              "      <td>0.248539</td>\n",
              "    </tr>\n",
              "    <tr>\n",
              "      <th>1/4/2021</th>\n",
              "      <td>0.009767</td>\n",
              "      <td>0.082018</td>\n",
              "    </tr>\n",
              "    <tr>\n",
              "      <th>1/5/2021</th>\n",
              "      <td>0.009920</td>\n",
              "      <td>0.127530</td>\n",
              "    </tr>\n",
              "    <tr>\n",
              "      <th>...</th>\n",
              "      <td>...</td>\n",
              "      <td>...</td>\n",
              "    </tr>\n",
              "    <tr>\n",
              "      <th>5/27/2021</th>\n",
              "      <td>0.332945</td>\n",
              "      <td>0.210520</td>\n",
              "    </tr>\n",
              "    <tr>\n",
              "      <th>5/28/2021</th>\n",
              "      <td>0.311205</td>\n",
              "      <td>0.227102</td>\n",
              "    </tr>\n",
              "    <tr>\n",
              "      <th>5/29/2021</th>\n",
              "      <td>0.303110</td>\n",
              "      <td>0.244916</td>\n",
              "    </tr>\n",
              "    <tr>\n",
              "      <th>5/30/2021</th>\n",
              "      <td>0.302224</td>\n",
              "      <td>0.152507</td>\n",
              "    </tr>\n",
              "    <tr>\n",
              "      <th>5/31/2021</th>\n",
              "      <td>0.325810</td>\n",
              "      <td>0.145083</td>\n",
              "    </tr>\n",
              "  </tbody>\n",
              "</table>\n",
              "<p>151 rows × 2 columns</p>\n",
              "</div>"
            ],
            "text/plain": [
              "             Price   Compound\n",
              "Date                         \n",
              "1/1/2021   0.005685  0.197971\n",
              "1/2/2021   0.010615  0.075553\n",
              "1/3/2021   0.009771  0.248539\n",
              "1/4/2021   0.009767  0.082018\n",
              "1/5/2021   0.009920  0.127530\n",
              "...             ...       ...\n",
              "5/27/2021  0.332945  0.210520\n",
              "5/28/2021  0.311205  0.227102\n",
              "5/29/2021  0.303110  0.244916\n",
              "5/30/2021  0.302224  0.152507\n",
              "5/31/2021  0.325810  0.145083\n",
              "\n",
              "[151 rows x 2 columns]"
            ]
          },
          "metadata": {
            "tags": []
          },
          "execution_count": 138
        }
      ]
    },
    {
      "cell_type": "code",
      "metadata": {
        "id": "vyBGyHQfZYrH"
      },
      "source": [
        "\n",
        "scaler = MinMaxScaler(feature_range=(0, 1))\n",
        "scaled = scaler.fit_transform(df.values)"
      ],
      "execution_count": null,
      "outputs": []
    },
    {
      "cell_type": "code",
      "metadata": {
        "id": "5W1NkL4BZbC0"
      },
      "source": [
        "\n",
        "def series_to_supervised(data, n_in=1, n_out=1, dropnan=True):\n",
        "    '''\n",
        "    Converts the original dataframe to a format which contains\n",
        "    lag shifted values of inputs which can be used as input\n",
        "    to the LSTM\n",
        "    '''\n",
        "    n_vars = 1 if type(data) is list else data.shape[1]\n",
        "    df = pd.DataFrame(data)\n",
        "    cols, names = list(), list()\n",
        "    # input sequence (t-n, ... t-1)\n",
        "    for i in range(n_in, 0, -1):\n",
        "        cols.append(df.shift(i))\n",
        "        names += [('var%d(t-%d)' % (j+1, i)) for j in range(n_vars)]\n",
        "    # forecast sequence (t, t+1, ... t+n)\n",
        "    for i in range(0, n_out):\n",
        "        cols.append(df.shift(-i))\n",
        "        if i == 0:\n",
        "            names += [('var%d(t)' % (j+1)) for j in range(n_vars)]\n",
        "        else:\n",
        "            names += [('var%d(t+%d)' % (j+1, i)) for j in range(n_vars)]\n",
        "    # put it all together\n",
        "    agg = pd.concat(cols, axis=1)\n",
        "    agg.columns = names\n",
        "    # drop rows with NaN values\n",
        "    if dropnan:\n",
        "        agg.dropna(inplace=True)\n",
        "    return agg"
      ],
      "execution_count": null,
      "outputs": []
    },
    {
      "cell_type": "code",
      "metadata": {
        "id": "RmNSDuUiZex7"
      },
      "source": [
        "n_hours = 1  #no of time lags\n",
        "n_features = 1 #no of features\n",
        "n_obs = n_hours*n_features"
      ],
      "execution_count": null,
      "outputs": []
    },
    {
      "cell_type": "code",
      "metadata": {
        "colab": {
          "base_uri": "https://localhost:8080/",
          "height": 203
        },
        "id": "8a42kkh2Zpsd",
        "outputId": "f2cdae03-3ebf-4433-d931-f569358ec777"
      },
      "source": [
        "\n",
        "reframed = series_to_supervised(scaled, n_hours, 1)\n",
        "reframed.head()"
      ],
      "execution_count": null,
      "outputs": [
        {
          "output_type": "execute_result",
          "data": {
            "text/html": [
              "<div>\n",
              "<style scoped>\n",
              "    .dataframe tbody tr th:only-of-type {\n",
              "        vertical-align: middle;\n",
              "    }\n",
              "\n",
              "    .dataframe tbody tr th {\n",
              "        vertical-align: top;\n",
              "    }\n",
              "\n",
              "    .dataframe thead th {\n",
              "        text-align: right;\n",
              "    }\n",
              "</style>\n",
              "<table border=\"1\" class=\"dataframe\">\n",
              "  <thead>\n",
              "    <tr style=\"text-align: right;\">\n",
              "      <th></th>\n",
              "      <th>var1(t-1)</th>\n",
              "      <th>var2(t-1)</th>\n",
              "      <th>var1(t)</th>\n",
              "      <th>var2(t)</th>\n",
              "    </tr>\n",
              "  </thead>\n",
              "  <tbody>\n",
              "    <tr>\n",
              "      <th>1</th>\n",
              "      <td>0.000000</td>\n",
              "      <td>0.542059</td>\n",
              "      <td>0.007259</td>\n",
              "      <td>0.148736</td>\n",
              "    </tr>\n",
              "    <tr>\n",
              "      <th>2</th>\n",
              "      <td>0.007259</td>\n",
              "      <td>0.148736</td>\n",
              "      <td>0.006016</td>\n",
              "      <td>0.704531</td>\n",
              "    </tr>\n",
              "    <tr>\n",
              "      <th>3</th>\n",
              "      <td>0.006016</td>\n",
              "      <td>0.704531</td>\n",
              "      <td>0.006011</td>\n",
              "      <td>0.169509</td>\n",
              "    </tr>\n",
              "    <tr>\n",
              "      <th>4</th>\n",
              "      <td>0.006011</td>\n",
              "      <td>0.169509</td>\n",
              "      <td>0.006237</td>\n",
              "      <td>0.315736</td>\n",
              "    </tr>\n",
              "    <tr>\n",
              "      <th>5</th>\n",
              "      <td>0.006237</td>\n",
              "      <td>0.315736</td>\n",
              "      <td>0.007039</td>\n",
              "      <td>0.222019</td>\n",
              "    </tr>\n",
              "  </tbody>\n",
              "</table>\n",
              "</div>"
            ],
            "text/plain": [
              "   var1(t-1)  var2(t-1)   var1(t)   var2(t)\n",
              "1   0.000000   0.542059  0.007259  0.148736\n",
              "2   0.007259   0.148736  0.006016  0.704531\n",
              "3   0.006016   0.704531  0.006011  0.169509\n",
              "4   0.006011   0.169509  0.006237  0.315736\n",
              "5   0.006237   0.315736  0.007039  0.222019"
            ]
          },
          "metadata": {
            "tags": []
          },
          "execution_count": 142
        }
      ]
    },
    {
      "cell_type": "code",
      "metadata": {
        "colab": {
          "base_uri": "https://localhost:8080/",
          "height": 203
        },
        "id": "3DBigu0eaB7a",
        "outputId": "9a115d96-8d3e-4ce3-c1f5-52f3411212e1"
      },
      "source": [
        "reframed = reframed.drop(reframed.columns[-1], axis=1)\n",
        "reframed.head()"
      ],
      "execution_count": null,
      "outputs": [
        {
          "output_type": "execute_result",
          "data": {
            "text/html": [
              "<div>\n",
              "<style scoped>\n",
              "    .dataframe tbody tr th:only-of-type {\n",
              "        vertical-align: middle;\n",
              "    }\n",
              "\n",
              "    .dataframe tbody tr th {\n",
              "        vertical-align: top;\n",
              "    }\n",
              "\n",
              "    .dataframe thead th {\n",
              "        text-align: right;\n",
              "    }\n",
              "</style>\n",
              "<table border=\"1\" class=\"dataframe\">\n",
              "  <thead>\n",
              "    <tr style=\"text-align: right;\">\n",
              "      <th></th>\n",
              "      <th>var1(t-1)</th>\n",
              "      <th>var2(t-1)</th>\n",
              "      <th>var1(t)</th>\n",
              "    </tr>\n",
              "  </thead>\n",
              "  <tbody>\n",
              "    <tr>\n",
              "      <th>1</th>\n",
              "      <td>0.000000</td>\n",
              "      <td>0.542059</td>\n",
              "      <td>0.007259</td>\n",
              "    </tr>\n",
              "    <tr>\n",
              "      <th>2</th>\n",
              "      <td>0.007259</td>\n",
              "      <td>0.148736</td>\n",
              "      <td>0.006016</td>\n",
              "    </tr>\n",
              "    <tr>\n",
              "      <th>3</th>\n",
              "      <td>0.006016</td>\n",
              "      <td>0.704531</td>\n",
              "      <td>0.006011</td>\n",
              "    </tr>\n",
              "    <tr>\n",
              "      <th>4</th>\n",
              "      <td>0.006011</td>\n",
              "      <td>0.169509</td>\n",
              "      <td>0.006237</td>\n",
              "    </tr>\n",
              "    <tr>\n",
              "      <th>5</th>\n",
              "      <td>0.006237</td>\n",
              "      <td>0.315736</td>\n",
              "      <td>0.007039</td>\n",
              "    </tr>\n",
              "  </tbody>\n",
              "</table>\n",
              "</div>"
            ],
            "text/plain": [
              "   var1(t-1)  var2(t-1)   var1(t)\n",
              "1   0.000000   0.542059  0.007259\n",
              "2   0.007259   0.148736  0.006016\n",
              "3   0.006016   0.704531  0.006011\n",
              "4   0.006011   0.169509  0.006237\n",
              "5   0.006237   0.315736  0.007039"
            ]
          },
          "metadata": {
            "tags": []
          },
          "execution_count": 143
        }
      ]
    },
    {
      "cell_type": "code",
      "metadata": {
        "colab": {
          "base_uri": "https://localhost:8080/"
        },
        "id": "ie0a-Rk3-9x2",
        "outputId": "75809e81-623a-4e4c-bfb9-20dc1b7a42e0"
      },
      "source": [
        "reframed.shape"
      ],
      "execution_count": null,
      "outputs": [
        {
          "output_type": "execute_result",
          "data": {
            "text/plain": [
              "(150, 3)"
            ]
          },
          "metadata": {
            "tags": []
          },
          "execution_count": 144
        }
      ]
    },
    {
      "cell_type": "code",
      "metadata": {
        "colab": {
          "base_uri": "https://localhost:8080/"
        },
        "id": "bFgzvJ0BaVlz",
        "outputId": "1344629f-d86c-4520-ca00-031c4b7dfd89"
      },
      "source": [
        "\n",
        "values = reframed.values\n",
        "n_train_hours = 135\n",
        "train = values[:135, :]\n",
        "test = values[135:151, :]\n",
        "train.shape,test.shape"
      ],
      "execution_count": null,
      "outputs": [
        {
          "output_type": "execute_result",
          "data": {
            "text/plain": [
              "((135, 3), (15, 3))"
            ]
          },
          "metadata": {
            "tags": []
          },
          "execution_count": 165
        }
      ]
    },
    {
      "cell_type": "code",
      "metadata": {
        "colab": {
          "base_uri": "https://localhost:8080/"
        },
        "id": "lQ2WQMJOQZjv",
        "outputId": "a23a79f2-b983-4211-fdb4-90a9e2a0244c"
      },
      "source": [
        "values.shape"
      ],
      "execution_count": null,
      "outputs": [
        {
          "output_type": "execute_result",
          "data": {
            "text/plain": [
              "(150, 3)"
            ]
          },
          "metadata": {
            "tags": []
          },
          "execution_count": 166
        }
      ]
    },
    {
      "cell_type": "code",
      "metadata": {
        "id": "ePuNAC8nadhA"
      },
      "source": [
        "# split into input and outputs\n",
        "train_X, train_y = train[:, :n_obs], train[:, ]\n",
        "test_X, test_y = test[:, :n_obs], test[:, ]"
      ],
      "execution_count": null,
      "outputs": []
    },
    {
      "cell_type": "code",
      "metadata": {
        "colab": {
          "base_uri": "https://localhost:8080/"
        },
        "id": "JD2yQaAK9czo",
        "outputId": "b26342a2-6d11-409d-d5a7-cdae42752f30"
      },
      "source": [
        "train_X.shape, train_y.shape, test_X.shape, test_y.shape"
      ],
      "execution_count": null,
      "outputs": [
        {
          "output_type": "execute_result",
          "data": {
            "text/plain": [
              "((135, 1), (135, 3), (15, 1), (15, 3))"
            ]
          },
          "metadata": {
            "tags": []
          },
          "execution_count": 169
        }
      ]
    },
    {
      "cell_type": "code",
      "metadata": {
        "colab": {
          "base_uri": "https://localhost:8080/"
        },
        "id": "ii4Pjs9nafuj",
        "outputId": "eb4b461b-a0b0-40ca-a266-84ac8007e2d3"
      },
      "source": [
        "# reshape input to be 3D [samples, timesteps, features]\n",
        "train_X = train_X.reshape((train_X.shape[0], n_hours, n_features))\n",
        "test_X = test_X.reshape((test_X.shape[0], n_hours, n_features))\n",
        "print(train_X.shape, train_y.shape, test_X.shape, test_y.shape)"
      ],
      "execution_count": null,
      "outputs": [
        {
          "output_type": "stream",
          "text": [
            "(135, 1, 1) (135, 3) (15, 1, 1) (15, 3)\n"
          ],
          "name": "stdout"
        }
      ]
    },
    {
      "cell_type": "code",
      "metadata": {
        "colab": {
          "base_uri": "https://localhost:8080/"
        },
        "id": "uRGvZAKVQLw0",
        "outputId": "86a755a3-6cb1-4b47-80b9-5cf324c6b3dc"
      },
      "source": [
        "# reshape input to be 3D [samples, timesteps, features]\n",
        "train_X = train_X.reshape((train_X.shape[0], n_hours, n_features))\n",
        "test_X = test_X.reshape((test_X.shape[0], n_hours, n_features))\n",
        "print(train_X.shape, train_y.shape, test_X.shape, test_y.shape)"
      ],
      "execution_count": null,
      "outputs": [
        {
          "output_type": "stream",
          "text": [
            "(135, 1, 1) (135,) (15, 1, 1) (15, 1)\n"
          ],
          "name": "stdout"
        }
      ]
    },
    {
      "cell_type": "code",
      "metadata": {
        "id": "tbRdhM8QahyL"
      },
      "source": [
        "# design network\n",
        "#model = Sequential()\n",
        "#model.add(LSTM(128, input_shape=(train_X.shape[1], train_X.shape[2])))\n",
        "#model.add(Dense(1))\n",
        "#model.compile(loss='mae', optimizer='adam')\n",
        "# fit network\n",
        "#history = model.fit(train_X, train_y, epochs=50, batch_size=15, validation_data=(test_X, test_y), verbose=2, shuffle=False)\n",
        "# plot history"
      ],
      "execution_count": null,
      "outputs": []
    },
    {
      "cell_type": "code",
      "metadata": {
        "colab": {
          "base_uri": "https://localhost:8080/"
        },
        "id": "7iAjkM-ijDvO",
        "outputId": "1febf07e-f8b8-4a31-d2b8-43d61d2fd365"
      },
      "source": [
        "model = Sequential()\n",
        "#Adding the first LSTM layer and some Dropout regularisation\n",
        "model.add(LSTM(units = 50, return_sequences = True, input_shape = (train_X.shape[1], train_X.shape[2])))\n",
        "model.add(Dropout(0.2))\n",
        "# Adding a second LSTM layer and some Dropout regularisation\n",
        "model.add(LSTM(units = 50, return_sequences = True))\n",
        "model.add(Dropout(0.2))\n",
        "# Adding a third LSTM layer and some Dropout regularisation\n",
        "model.add(LSTM(units = 50, return_sequences = True))\n",
        "model.add(Dropout(0.2))\n",
        "# Adding a fourth LSTM layer and some Dropout regularisation\n",
        "model.add(LSTM(units = 50))\n",
        "model.add(Dropout(0.2))\n",
        "# Adding the output layer\n",
        "model.add(Dense(units = 1))\n",
        "\n",
        "# Compiling the RNN\n",
        "model.compile(optimizer = 'adam', loss = 'mean_squared_error')\n",
        "\n",
        "\n",
        "\n",
        "history = model.fit(train_X, train_y, epochs=60, batch_size=15, validation_data=(test_X, test_y), verbose=2, shuffle=False)"
      ],
      "execution_count": null,
      "outputs": [
        {
          "output_type": "stream",
          "text": [
            "Epoch 1/60\n",
            "9/9 - 8s - loss: 0.0881 - val_loss: 0.2469\n",
            "Epoch 2/60\n",
            "9/9 - 0s - loss: 0.0815 - val_loss: 0.2267\n",
            "Epoch 3/60\n",
            "9/9 - 0s - loss: 0.0752 - val_loss: 0.2053\n",
            "Epoch 4/60\n",
            "9/9 - 0s - loss: 0.0686 - val_loss: 0.1829\n",
            "Epoch 5/60\n",
            "9/9 - 0s - loss: 0.0641 - val_loss: 0.1606\n",
            "Epoch 6/60\n",
            "9/9 - 0s - loss: 0.0606 - val_loss: 0.1399\n",
            "Epoch 7/60\n",
            "9/9 - 0s - loss: 0.0585 - val_loss: 0.1229\n",
            "Epoch 8/60\n",
            "9/9 - 0s - loss: 0.0571 - val_loss: 0.1097\n",
            "Epoch 9/60\n",
            "9/9 - 0s - loss: 0.0545 - val_loss: 0.0997\n",
            "Epoch 10/60\n",
            "9/9 - 0s - loss: 0.0544 - val_loss: 0.0914\n",
            "Epoch 11/60\n",
            "9/9 - 0s - loss: 0.0534 - val_loss: 0.0840\n",
            "Epoch 12/60\n",
            "9/9 - 0s - loss: 0.0512 - val_loss: 0.0774\n",
            "Epoch 13/60\n",
            "9/9 - 0s - loss: 0.0485 - val_loss: 0.0705\n",
            "Epoch 14/60\n",
            "9/9 - 0s - loss: 0.0459 - val_loss: 0.0624\n",
            "Epoch 15/60\n",
            "9/9 - 0s - loss: 0.0404 - val_loss: 0.0515\n",
            "Epoch 16/60\n",
            "9/9 - 0s - loss: 0.0358 - val_loss: 0.0393\n",
            "Epoch 17/60\n",
            "9/9 - 0s - loss: 0.0292 - val_loss: 0.0280\n",
            "Epoch 18/60\n",
            "9/9 - 0s - loss: 0.0247 - val_loss: 0.0181\n",
            "Epoch 19/60\n",
            "9/9 - 0s - loss: 0.0165 - val_loss: 0.0102\n",
            "Epoch 20/60\n",
            "9/9 - 0s - loss: 0.0126 - val_loss: 0.0066\n",
            "Epoch 21/60\n",
            "9/9 - 0s - loss: 0.0111 - val_loss: 0.0069\n",
            "Epoch 22/60\n",
            "9/9 - 0s - loss: 0.0091 - val_loss: 0.0079\n",
            "Epoch 23/60\n",
            "9/9 - 0s - loss: 0.0061 - val_loss: 0.0074\n",
            "Epoch 24/60\n",
            "9/9 - 0s - loss: 0.0059 - val_loss: 0.0073\n",
            "Epoch 25/60\n",
            "9/9 - 0s - loss: 0.0080 - val_loss: 0.0089\n",
            "Epoch 26/60\n",
            "9/9 - 0s - loss: 0.0071 - val_loss: 0.0142\n",
            "Epoch 27/60\n",
            "9/9 - 0s - loss: 0.0089 - val_loss: 0.0108\n",
            "Epoch 28/60\n",
            "9/9 - 0s - loss: 0.0057 - val_loss: 0.0062\n",
            "Epoch 29/60\n",
            "9/9 - 0s - loss: 0.0065 - val_loss: 0.0063\n",
            "Epoch 30/60\n",
            "9/9 - 0s - loss: 0.0089 - val_loss: 0.0074\n",
            "Epoch 31/60\n",
            "9/9 - 0s - loss: 0.0061 - val_loss: 0.0073\n",
            "Epoch 32/60\n",
            "9/9 - 0s - loss: 0.0060 - val_loss: 0.0092\n",
            "Epoch 33/60\n",
            "9/9 - 0s - loss: 0.0047 - val_loss: 0.0063\n",
            "Epoch 34/60\n",
            "9/9 - 0s - loss: 0.0051 - val_loss: 0.0073\n",
            "Epoch 35/60\n",
            "9/9 - 0s - loss: 0.0073 - val_loss: 0.0076\n",
            "Epoch 36/60\n",
            "9/9 - 0s - loss: 0.0059 - val_loss: 0.0104\n",
            "Epoch 37/60\n",
            "9/9 - 0s - loss: 0.0043 - val_loss: 0.0059\n",
            "Epoch 38/60\n",
            "9/9 - 0s - loss: 0.0055 - val_loss: 0.0069\n",
            "Epoch 39/60\n",
            "9/9 - 0s - loss: 0.0077 - val_loss: 0.0060\n",
            "Epoch 40/60\n",
            "9/9 - 0s - loss: 0.0059 - val_loss: 0.0062\n",
            "Epoch 41/60\n",
            "9/9 - 0s - loss: 0.0041 - val_loss: 0.0057\n",
            "Epoch 42/60\n",
            "9/9 - 0s - loss: 0.0062 - val_loss: 0.0057\n",
            "Epoch 43/60\n",
            "9/9 - 0s - loss: 0.0045 - val_loss: 0.0056\n",
            "Epoch 44/60\n",
            "9/9 - 0s - loss: 0.0062 - val_loss: 0.0056\n",
            "Epoch 45/60\n",
            "9/9 - 0s - loss: 0.0053 - val_loss: 0.0058\n",
            "Epoch 46/60\n",
            "9/9 - 0s - loss: 0.0040 - val_loss: 0.0054\n",
            "Epoch 47/60\n",
            "9/9 - 0s - loss: 0.0063 - val_loss: 0.0054\n",
            "Epoch 48/60\n",
            "9/9 - 0s - loss: 0.0057 - val_loss: 0.0057\n",
            "Epoch 49/60\n",
            "9/9 - 0s - loss: 0.0051 - val_loss: 0.0051\n",
            "Epoch 50/60\n",
            "9/9 - 0s - loss: 0.0045 - val_loss: 0.0051\n",
            "Epoch 51/60\n",
            "9/9 - 0s - loss: 0.0049 - val_loss: 0.0052\n",
            "Epoch 52/60\n",
            "9/9 - 0s - loss: 0.0060 - val_loss: 0.0052\n",
            "Epoch 53/60\n",
            "9/9 - 0s - loss: 0.0048 - val_loss: 0.0050\n",
            "Epoch 54/60\n",
            "9/9 - 0s - loss: 0.0037 - val_loss: 0.0051\n",
            "Epoch 55/60\n",
            "9/9 - 0s - loss: 0.0061 - val_loss: 0.0051\n",
            "Epoch 56/60\n",
            "9/9 - 0s - loss: 0.0060 - val_loss: 0.0059\n",
            "Epoch 57/60\n",
            "9/9 - 0s - loss: 0.0063 - val_loss: 0.0046\n",
            "Epoch 58/60\n",
            "9/9 - 0s - loss: 0.0047 - val_loss: 0.0052\n",
            "Epoch 59/60\n",
            "9/9 - 0s - loss: 0.0045 - val_loss: 0.0055\n",
            "Epoch 60/60\n",
            "9/9 - 0s - loss: 0.0040 - val_loss: 0.0057\n"
          ],
          "name": "stdout"
        }
      ]
    },
    {
      "cell_type": "code",
      "metadata": {
        "id": "NGUnr92ISGBZ"
      },
      "source": [
        ""
      ],
      "execution_count": null,
      "outputs": []
    },
    {
      "cell_type": "code",
      "metadata": {
        "colab": {
          "base_uri": "https://localhost:8080/",
          "height": 265
        },
        "id": "8iUG5bxYgaSW",
        "outputId": "d66670ba-850a-42a7-d2bf-7a08cfe815e2"
      },
      "source": [
        "\n",
        "plt.plot(history.history['loss'], label='train')\n",
        "plt.plot(history.history['val_loss'], label='test')\n",
        "plt.legend()\n",
        "plt.show()"
      ],
      "execution_count": null,
      "outputs": [
        {
          "output_type": "display_data",
          "data": {
            "image/png": "[encoded data removed]",
            "text/plain": [
              "<Figure size 432x288 with 1 Axes>"
            ]
          },
          "metadata": {
            "tags": [],
            "needs_background": "light"
          }
        }
      ]
    },
    {
      "cell_type": "code",
      "metadata": {
        "colab": {
          "base_uri": "https://localhost:8080/",
          "height": 336
        },
        "id": "hIKRxsmibE2S",
        "outputId": "a62226b3-4bde-4dfa-bfc5-c15eae7dc389"
      },
      "source": [
        "#plt.style.use('ggplot')\n",
        "\n",
        "def plot_history(history):\n",
        "    loss = history.history['loss']\n",
        "    val_loss = history.history['val_loss']\n",
        "    x = range(1, len(loss) + 1)\n",
        "\n",
        "    plt.figure(figsize=(12, 5))\n",
        "    plt.plot(x, loss, 'b', label='Training loss')\n",
        "    plt.plot(x, val_loss, 'r', label='Validation loss')\n",
        "    plt.title('Training and validation loss')\n",
        "    plt.legend()\n",
        "    plt.show()\n",
        "\n",
        "\n",
        "plot_history(history)"
      ],
      "execution_count": null,
      "outputs": [
        {
          "output_type": "display_data",
          "data": {
            "image/png": "[encoded data removed]",
            "text/plain": [
              "<Figure size 864x360 with 1 Axes>"
            ]
          },
          "metadata": {
            "tags": [],
            "needs_background": "light"
          }
        }
      ]
    },
    {
      "cell_type": "code",
      "metadata": {
        "colab": {
          "base_uri": "https://localhost:8080/",
          "height": 388
        },
        "id": "7INcpL8GTxm6",
        "outputId": "bd6b070d-5a47-4dd9-e08f-c5ed1c44a9d5"
      },
      "source": [
        "\n",
        "\n",
        "yhat = model.predict(test_X)\n",
        "yhat\n",
        "plt.figure(figsize=(14,5))\n",
        "plt.plot(test_y, color = 'red', label = 'Real Price of Dogecoin')\n",
        "plt.plot(yhat, color = 'green', label = 'Predicted Price of Dogecoin')\n",
        "plt.title('Dogecoin Price Prediction using LSTM along with sentiment score')\n",
        "plt.xlabel('Time')\n",
        "plt.ylabel('Price')\n",
        "plt.legend()\n",
        "plt.show()"
      ],
      "execution_count": null,
      "outputs": [
        {
          "output_type": "stream",
          "text": [
            "WARNING:tensorflow:5 out of the last 8 calls to <function Model.make_predict_function.<locals>.predict_function at 0x7f508d8b0e60> triggered tf.function retracing. Tracing is expensive and the excessive number of tracings could be due to (1) creating @tf.function repeatedly in a loop, (2) passing tensors with different shapes, (3) passing Python objects instead of tensors. For (1), please define your @tf.function outside of the loop. For (2), @tf.function has experimental_relax_shapes=True option that relaxes argument shapes that can avoid unnecessary retracing. For (3), please refer to https://www.tensorflow.org/guide/function#controlling_retracing and https://www.tensorflow.org/api_docs/python/tf/function for  more details.\n"
          ],
          "name": "stdout"
        },
        {
          "output_type": "display_data",
          "data": {
            "image/png": "[encoded data removed]",
            "text/plain": [
              "<Figure size 1008x360 with 1 Axes>"
            ]
          },
          "metadata": {
            "tags": [],
            "needs_background": "light"
          }
        }
      ]
    },
    {
      "cell_type": "code",
      "metadata": {
        "colab": {
          "base_uri": "https://localhost:8080/"
        },
        "id": "FAQYyZ4wVFc3",
        "outputId": "a6002976-8b04-403f-d40c-df7190bb87c6"
      },
      "source": [
        "from sklearn.metrics import mean_squared_error \n",
        "realVals = test_y\n",
        "predictedVals = yhat\n",
        "mse = mean_squared_error(realVals, predictedVals)\n",
        "mse"
      ],
      "execution_count": null,
      "outputs": [
        {
          "output_type": "execute_result",
          "data": {
            "text/plain": [
              "0.0056806325692770505"
            ]
          },
          "metadata": {
            "tags": []
          },
          "execution_count": 154
        }
      ]
    },
    {
      "cell_type": "code",
      "metadata": {
        "colab": {
          "base_uri": "https://localhost:8080/"
        },
        "id": "eW9ICs35SXHg",
        "outputId": "8ab5a29b-af05-4580-dce0-3335896a248e"
      },
      "source": [
        "# make a prediction\n",
        "yhat = model.predict(test_X)\n",
        "yhat"
      ],
      "execution_count": null,
      "outputs": [
        {
          "output_type": "execute_result",
          "data": {
            "text/plain": [
              "array([[0.76848817],\n",
              "       [0.72563237],\n",
              "       [0.7068849 ],\n",
              "       [0.47948545],\n",
              "       [0.5857553 ],\n",
              "       [0.5209135 ],\n",
              "       [0.4940428 ],\n",
              "       [0.44026014],\n",
              "       [0.5316535 ],\n",
              "       [0.5002417 ],\n",
              "       [0.51191473],\n",
              "       [0.47920537],\n",
              "       [0.44514894],\n",
              "       [0.43253374],\n",
              "       [0.4311551 ]], dtype=float32)"
            ]
          },
          "metadata": {
            "tags": []
          },
          "execution_count": 155
        }
      ]
    },
    {
      "cell_type": "code",
      "metadata": {
        "colab": {
          "base_uri": "https://localhost:8080/"
        },
        "id": "grD0_VNuaqye",
        "outputId": "08d1ad2d-780d-49dc-cb20-a70e8960e22c"
      },
      "source": [
        "\n",
        "\n",
        "test_X = test_X.reshape((test_X.shape[0], n_hours* n_features))\n",
        "# invert scaling for forecast\n",
        "inv_yhat = np.concatenate((yhat, test_X[:, -1:]), axis=1)\n",
        "inv_yhat = scaler.inverse_transform(inv_yhat)\n",
        "inv_yhat = inv_yhat[:,0]\n",
        "# invert scaling for actual\n",
        "test_y = test_y.reshape((len(test_y), 1))\n",
        "inv_y = np.concatenate((test_y, test_X[:, -1:]), axis=1)\n",
        "inv_y = scaler.inverse_transform(inv_y)\n",
        "inv_y = inv_y[:,0]\n",
        "# calculate RMSE\n",
        "rmse = np.sqrt(mean_squared_error(inv_y, inv_yhat))\n",
        "print('Test RMSE: %.3f' % rmse)"
      ],
      "execution_count": null,
      "outputs": [
        {
          "output_type": "stream",
          "text": [
            "Test RMSE: 0.051\n"
          ],
          "name": "stdout"
        }
      ]
    },
    {
      "cell_type": "code",
      "metadata": {
        "colab": {
          "base_uri": "https://localhost:8080/",
          "height": 598
        },
        "id": "Pxruinq1axjo",
        "outputId": "5f343b46-4fca-4e04-fa8d-06f2e3361127"
      },
      "source": [
        "plt.plot(inv_y)\n",
        "plt.plot(inv_yhat)\n",
        "\n",
        "plt.figure(figsize=(14,5))\n",
        "plt.plot(inv_y, color = 'red', label = 'Real Price of Dogecoin')\n",
        "plt.plot(inv_yhat, color = 'green', label = 'Predicted Price of Dogecoin')\n",
        "plt.title('Dogecoin Price Prediction using LSTM along with sentiment score')\n",
        "plt.xlabel('Time')\n",
        "plt.ylabel('Price')\n",
        "plt.legend()\n",
        "plt.show()"
      ],
      "execution_count": null,
      "outputs": [
        {
          "output_type": "display_data",
          "data": {
            "image/png": "[encoded data removed]",
            "text/plain": [
              "<Figure size 432x288 with 1 Axes>"
            ]
          },
          "metadata": {
            "tags": [],
            "needs_background": "light"
          }
        },
        {
          "output_type": "display_data",
          "data": {
            "image/png": "[encoded data removed]",
            "text/plain": [
              "<Figure size 1008x360 with 1 Axes>"
            ]
          },
          "metadata": {
            "tags": [],
            "needs_background": "light"
          }
        }
      ]
    }
  ]
}